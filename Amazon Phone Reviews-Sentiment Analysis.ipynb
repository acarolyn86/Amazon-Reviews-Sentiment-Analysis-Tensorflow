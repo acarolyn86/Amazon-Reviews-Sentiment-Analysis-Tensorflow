{
 "cells": [
  {
   "cell_type": "markdown",
   "metadata": {},
   "source": [
    "## Amazon Cell Phone Reviews: A Sentiment Analysis\n",
    "\n",
    "Online reviews are the cornerstone of the online shopping experience, and are key in consumers' decision making process. As humans, we are able to easily read and discern whether or not online reviews are positive or negative. But can a computer do it? Using Amazon reviews of cell phones, we will attempt to answer this question. \n",
    "\n",
    "There are two files for this dataset: the list of cell phones with their overall ratings and total number of reviews, and the list of actual reviews. We will use the first dataset to look at some descriptive statistics, and the latter for sentiment analysis. Sentiment analysis will be performed with the use of a recurrent neural network. This type of neural network is good for sequences of data where the order is important (such as time, sentences, etc). \n",
    "\n",
    "Data source here: https://www.kaggle.com/grikomsn/amazon-cell-phones-reviews"
   ]
  },
  {
   "cell_type": "code",
   "execution_count": 1,
   "metadata": {},
   "outputs": [],
   "source": [
    "#importing libraries\n",
    "import numpy as np\n",
    "import pandas as pd\n",
    "import matplotlib.pyplot as plt\n",
    "import seaborn as sns\n",
    "%matplotlib inline"
   ]
  },
  {
   "cell_type": "markdown",
   "metadata": {},
   "source": [
    "Let's start by examining the list of cell phone models with ratings."
   ]
  },
  {
   "cell_type": "code",
   "execution_count": 2,
   "metadata": {},
   "outputs": [],
   "source": [
    "phones = pd.read_csv('amazon-cell-phones-reviews/20191226-items.csv')\n",
    "reviews = pd.read_csv('amazon-cell-phones-reviews/20191226-reviews.csv')"
   ]
  },
  {
   "cell_type": "code",
   "execution_count": 3,
   "metadata": {},
   "outputs": [
    {
     "name": "stdout",
     "output_type": "stream",
     "text": [
      "<class 'pandas.core.frame.DataFrame'>\n",
      "RangeIndex: 720 entries, 0 to 719\n",
      "Data columns (total 10 columns):\n",
      " #   Column         Non-Null Count  Dtype  \n",
      "---  ------         --------------  -----  \n",
      " 0   asin           720 non-null    object \n",
      " 1   brand          716 non-null    object \n",
      " 2   title          720 non-null    object \n",
      " 3   url            720 non-null    object \n",
      " 4   image          720 non-null    object \n",
      " 5   rating         720 non-null    float64\n",
      " 6   reviewUrl      720 non-null    object \n",
      " 7   totalReviews   720 non-null    int64  \n",
      " 8   price          720 non-null    float64\n",
      " 9   originalPrice  720 non-null    float64\n",
      "dtypes: float64(3), int64(1), object(6)\n",
      "memory usage: 56.4+ KB\n"
     ]
    }
   ],
   "source": [
    "phones.info()"
   ]
  },
  {
   "cell_type": "code",
   "execution_count": 4,
   "metadata": {},
   "outputs": [
    {
     "data": {
      "text/html": [
       "<div>\n",
       "<style scoped>\n",
       "    .dataframe tbody tr th:only-of-type {\n",
       "        vertical-align: middle;\n",
       "    }\n",
       "\n",
       "    .dataframe tbody tr th {\n",
       "        vertical-align: top;\n",
       "    }\n",
       "\n",
       "    .dataframe thead th {\n",
       "        text-align: right;\n",
       "    }\n",
       "</style>\n",
       "<table border=\"1\" class=\"dataframe\">\n",
       "  <thead>\n",
       "    <tr style=\"text-align: right;\">\n",
       "      <th></th>\n",
       "      <th>asin</th>\n",
       "      <th>brand</th>\n",
       "      <th>title</th>\n",
       "      <th>url</th>\n",
       "      <th>image</th>\n",
       "      <th>rating</th>\n",
       "      <th>reviewUrl</th>\n",
       "      <th>totalReviews</th>\n",
       "      <th>price</th>\n",
       "      <th>originalPrice</th>\n",
       "    </tr>\n",
       "  </thead>\n",
       "  <tbody>\n",
       "    <tr>\n",
       "      <th>0</th>\n",
       "      <td>B0000SX2UC</td>\n",
       "      <td>NaN</td>\n",
       "      <td>Dual-Band / Tri-Mode Sprint PCS Phone w/ Voice...</td>\n",
       "      <td>https://www.amazon.com/Dual-Band-Tri-Mode-Acti...</td>\n",
       "      <td>https://m.media-amazon.com/images/I/2143EBQ210...</td>\n",
       "      <td>3.0</td>\n",
       "      <td>https://www.amazon.com/product-reviews/B0000SX2UC</td>\n",
       "      <td>14</td>\n",
       "      <td>0.00</td>\n",
       "      <td>0.0</td>\n",
       "    </tr>\n",
       "    <tr>\n",
       "      <th>1</th>\n",
       "      <td>B0009N5L7K</td>\n",
       "      <td>Motorola</td>\n",
       "      <td>Motorola I265 phone</td>\n",
       "      <td>https://www.amazon.com/Motorola-i265-I265-phon...</td>\n",
       "      <td>https://m.media-amazon.com/images/I/419WBAVDAR...</td>\n",
       "      <td>3.0</td>\n",
       "      <td>https://www.amazon.com/product-reviews/B0009N5L7K</td>\n",
       "      <td>7</td>\n",
       "      <td>49.95</td>\n",
       "      <td>0.0</td>\n",
       "    </tr>\n",
       "    <tr>\n",
       "      <th>2</th>\n",
       "      <td>B000SKTZ0S</td>\n",
       "      <td>Motorola</td>\n",
       "      <td>MOTOROLA C168i AT&amp;T CINGULAR PREPAID GOPHONE C...</td>\n",
       "      <td>https://www.amazon.com/MOTOROLA-C168i-CINGULAR...</td>\n",
       "      <td>https://m.media-amazon.com/images/I/71b+q3ydkI...</td>\n",
       "      <td>2.7</td>\n",
       "      <td>https://www.amazon.com/product-reviews/B000SKTZ0S</td>\n",
       "      <td>22</td>\n",
       "      <td>99.99</td>\n",
       "      <td>0.0</td>\n",
       "    </tr>\n",
       "    <tr>\n",
       "      <th>3</th>\n",
       "      <td>B001AO4OUC</td>\n",
       "      <td>Motorola</td>\n",
       "      <td>Motorola i335 Cell Phone Boost Mobile</td>\n",
       "      <td>https://www.amazon.com/Motorola-i335-Phone-Boo...</td>\n",
       "      <td>https://m.media-amazon.com/images/I/710UO8gdT+...</td>\n",
       "      <td>3.3</td>\n",
       "      <td>https://www.amazon.com/product-reviews/B001AO4OUC</td>\n",
       "      <td>21</td>\n",
       "      <td>0.00</td>\n",
       "      <td>0.0</td>\n",
       "    </tr>\n",
       "    <tr>\n",
       "      <th>4</th>\n",
       "      <td>B001DCJAJG</td>\n",
       "      <td>Motorola</td>\n",
       "      <td>Motorola V365 no contract cellular phone AT&amp;T</td>\n",
       "      <td>https://www.amazon.com/Motorola-V365-contract-...</td>\n",
       "      <td>https://m.media-amazon.com/images/I/61LYNCVrrK...</td>\n",
       "      <td>3.1</td>\n",
       "      <td>https://www.amazon.com/product-reviews/B001DCJAJG</td>\n",
       "      <td>12</td>\n",
       "      <td>149.99</td>\n",
       "      <td>0.0</td>\n",
       "    </tr>\n",
       "  </tbody>\n",
       "</table>\n",
       "</div>"
      ],
      "text/plain": [
       "         asin     brand                                              title  \\\n",
       "0  B0000SX2UC       NaN  Dual-Band / Tri-Mode Sprint PCS Phone w/ Voice...   \n",
       "1  B0009N5L7K  Motorola                                Motorola I265 phone   \n",
       "2  B000SKTZ0S  Motorola  MOTOROLA C168i AT&T CINGULAR PREPAID GOPHONE C...   \n",
       "3  B001AO4OUC  Motorola              Motorola i335 Cell Phone Boost Mobile   \n",
       "4  B001DCJAJG  Motorola      Motorola V365 no contract cellular phone AT&T   \n",
       "\n",
       "                                                 url  \\\n",
       "0  https://www.amazon.com/Dual-Band-Tri-Mode-Acti...   \n",
       "1  https://www.amazon.com/Motorola-i265-I265-phon...   \n",
       "2  https://www.amazon.com/MOTOROLA-C168i-CINGULAR...   \n",
       "3  https://www.amazon.com/Motorola-i335-Phone-Boo...   \n",
       "4  https://www.amazon.com/Motorola-V365-contract-...   \n",
       "\n",
       "                                               image  rating  \\\n",
       "0  https://m.media-amazon.com/images/I/2143EBQ210...     3.0   \n",
       "1  https://m.media-amazon.com/images/I/419WBAVDAR...     3.0   \n",
       "2  https://m.media-amazon.com/images/I/71b+q3ydkI...     2.7   \n",
       "3  https://m.media-amazon.com/images/I/710UO8gdT+...     3.3   \n",
       "4  https://m.media-amazon.com/images/I/61LYNCVrrK...     3.1   \n",
       "\n",
       "                                           reviewUrl  totalReviews   price  \\\n",
       "0  https://www.amazon.com/product-reviews/B0000SX2UC            14    0.00   \n",
       "1  https://www.amazon.com/product-reviews/B0009N5L7K             7   49.95   \n",
       "2  https://www.amazon.com/product-reviews/B000SKTZ0S            22   99.99   \n",
       "3  https://www.amazon.com/product-reviews/B001AO4OUC            21    0.00   \n",
       "4  https://www.amazon.com/product-reviews/B001DCJAJG            12  149.99   \n",
       "\n",
       "   originalPrice  \n",
       "0            0.0  \n",
       "1            0.0  \n",
       "2            0.0  \n",
       "3            0.0  \n",
       "4            0.0  "
      ]
     },
     "execution_count": 4,
     "metadata": {},
     "output_type": "execute_result"
    }
   ],
   "source": [
    "phones.head()"
   ]
  },
  {
   "cell_type": "markdown",
   "metadata": {},
   "source": [
    "There are 4 rows with null values in the brand column. Let's see what they are:"
   ]
  },
  {
   "cell_type": "code",
   "execution_count": 5,
   "metadata": {},
   "outputs": [
    {
     "data": {
      "text/html": [
       "<div>\n",
       "<style scoped>\n",
       "    .dataframe tbody tr th:only-of-type {\n",
       "        vertical-align: middle;\n",
       "    }\n",
       "\n",
       "    .dataframe tbody tr th {\n",
       "        vertical-align: top;\n",
       "    }\n",
       "\n",
       "    .dataframe thead th {\n",
       "        text-align: right;\n",
       "    }\n",
       "</style>\n",
       "<table border=\"1\" class=\"dataframe\">\n",
       "  <thead>\n",
       "    <tr style=\"text-align: right;\">\n",
       "      <th></th>\n",
       "      <th>asin</th>\n",
       "      <th>brand</th>\n",
       "      <th>title</th>\n",
       "      <th>url</th>\n",
       "      <th>image</th>\n",
       "      <th>rating</th>\n",
       "      <th>reviewUrl</th>\n",
       "      <th>totalReviews</th>\n",
       "      <th>price</th>\n",
       "      <th>originalPrice</th>\n",
       "    </tr>\n",
       "  </thead>\n",
       "  <tbody>\n",
       "    <tr>\n",
       "      <th>0</th>\n",
       "      <td>B0000SX2UC</td>\n",
       "      <td>NaN</td>\n",
       "      <td>Dual-Band / Tri-Mode Sprint PCS Phone w/ Voice...</td>\n",
       "      <td>https://www.amazon.com/Dual-Band-Tri-Mode-Acti...</td>\n",
       "      <td>https://m.media-amazon.com/images/I/2143EBQ210...</td>\n",
       "      <td>3.0</td>\n",
       "      <td>https://www.amazon.com/product-reviews/B0000SX2UC</td>\n",
       "      <td>14</td>\n",
       "      <td>0.00</td>\n",
       "      <td>0.0</td>\n",
       "    </tr>\n",
       "    <tr>\n",
       "      <th>144</th>\n",
       "      <td>B01EWKHIAI</td>\n",
       "      <td>NaN</td>\n",
       "      <td>Microsoft Lumia 950 32GB Dual Sim NAM RM-1118 ...</td>\n",
       "      <td>https://www.amazon.com/Microsoft-Lumia-RM-1118...</td>\n",
       "      <td>https://m.media-amazon.com/images/I/41y0iPJH27...</td>\n",
       "      <td>3.9</td>\n",
       "      <td>https://www.amazon.com/product-reviews/B01EWKHIAI</td>\n",
       "      <td>67</td>\n",
       "      <td>242.99</td>\n",
       "      <td>0.0</td>\n",
       "    </tr>\n",
       "    <tr>\n",
       "      <th>471</th>\n",
       "      <td>B07JHXX5YR</td>\n",
       "      <td>NaN</td>\n",
       "      <td>ROG Phone Gaming Smartphone ZS600KL-S845-8G512...</td>\n",
       "      <td>https://www.amazon.com/ROG-Phone-Gaming-Smartp...</td>\n",
       "      <td>https://m.media-amazon.com/images/I/81qwFH3PTC...</td>\n",
       "      <td>3.9</td>\n",
       "      <td>https://www.amazon.com/product-reviews/B07JHXX5YR</td>\n",
       "      <td>126</td>\n",
       "      <td>549.00</td>\n",
       "      <td>599.0</td>\n",
       "    </tr>\n",
       "    <tr>\n",
       "      <th>631</th>\n",
       "      <td>B07T3KMJW8</td>\n",
       "      <td>NaN</td>\n",
       "      <td>Redmi 7A 2+16Gb Black EU</td>\n",
       "      <td>https://www.amazon.com/Redmi-7A-16Gb-Black-EU/...</td>\n",
       "      <td>https://m.media-amazon.com/images/I/51s+1NLTqx...</td>\n",
       "      <td>3.8</td>\n",
       "      <td>https://www.amazon.com/product-reviews/B07T3KMJW8</td>\n",
       "      <td>5</td>\n",
       "      <td>99.99</td>\n",
       "      <td>0.0</td>\n",
       "    </tr>\n",
       "  </tbody>\n",
       "</table>\n",
       "</div>"
      ],
      "text/plain": [
       "           asin brand                                              title  \\\n",
       "0    B0000SX2UC   NaN  Dual-Band / Tri-Mode Sprint PCS Phone w/ Voice...   \n",
       "144  B01EWKHIAI   NaN  Microsoft Lumia 950 32GB Dual Sim NAM RM-1118 ...   \n",
       "471  B07JHXX5YR   NaN  ROG Phone Gaming Smartphone ZS600KL-S845-8G512...   \n",
       "631  B07T3KMJW8   NaN                           Redmi 7A 2+16Gb Black EU   \n",
       "\n",
       "                                                   url  \\\n",
       "0    https://www.amazon.com/Dual-Band-Tri-Mode-Acti...   \n",
       "144  https://www.amazon.com/Microsoft-Lumia-RM-1118...   \n",
       "471  https://www.amazon.com/ROG-Phone-Gaming-Smartp...   \n",
       "631  https://www.amazon.com/Redmi-7A-16Gb-Black-EU/...   \n",
       "\n",
       "                                                 image  rating  \\\n",
       "0    https://m.media-amazon.com/images/I/2143EBQ210...     3.0   \n",
       "144  https://m.media-amazon.com/images/I/41y0iPJH27...     3.9   \n",
       "471  https://m.media-amazon.com/images/I/81qwFH3PTC...     3.9   \n",
       "631  https://m.media-amazon.com/images/I/51s+1NLTqx...     3.8   \n",
       "\n",
       "                                             reviewUrl  totalReviews   price  \\\n",
       "0    https://www.amazon.com/product-reviews/B0000SX2UC            14    0.00   \n",
       "144  https://www.amazon.com/product-reviews/B01EWKHIAI            67  242.99   \n",
       "471  https://www.amazon.com/product-reviews/B07JHXX5YR           126  549.00   \n",
       "631  https://www.amazon.com/product-reviews/B07T3KMJW8             5   99.99   \n",
       "\n",
       "     originalPrice  \n",
       "0              0.0  \n",
       "144            0.0  \n",
       "471          599.0  \n",
       "631            0.0  "
      ]
     },
     "execution_count": 5,
     "metadata": {},
     "output_type": "execute_result"
    }
   ],
   "source": [
    "phones.loc[phones.brand.isna(),:]"
   ]
  },
  {
   "cell_type": "markdown",
   "metadata": {},
   "source": [
    "After visiting the URLs in the reviewUrl column, we can easily fill these in:"
   ]
  },
  {
   "cell_type": "code",
   "execution_count": 6,
   "metadata": {},
   "outputs": [],
   "source": [
    "phones.iloc[0,1]='Nokia'\n",
    "phones.iloc[144,1]='Microsoft'\n",
    "phones.iloc[471,1]='Asus'\n",
    "phones.iloc[631,1]='Xiaomi'"
   ]
  },
  {
   "cell_type": "code",
   "execution_count": 7,
   "metadata": {},
   "outputs": [
    {
     "data": {
      "text/plain": [
       "0"
      ]
     },
     "execution_count": 7,
     "metadata": {},
     "output_type": "execute_result"
    }
   ],
   "source": [
    "#checking null values in brand column\n",
    "phones.brand.isnull().sum()"
   ]
  },
  {
   "cell_type": "markdown",
   "metadata": {},
   "source": [
    "We've filled in all the null values for the phones dataset. Let's look at the distribution of ratings across cell phone carriers."
   ]
  },
  {
   "cell_type": "code",
   "execution_count": 8,
   "metadata": {},
   "outputs": [
    {
     "data": {
      "image/png": "[encoded data removed]",
      "text/plain": [
       "<Figure size 720x360 with 1 Axes>"
      ]
     },
     "metadata": {
      "needs_background": "light"
     },
     "output_type": "display_data"
    }
   ],
   "source": [
    "sns.catplot(x='brand',y='rating',data=phones, height=5, aspect=2)\n",
    "plt.title('Ratings Distribution by Brand')\n",
    "plt.show()"
   ]
  },
  {
   "cell_type": "markdown",
   "metadata": {},
   "source": [
    "Based on the above graph, we can see that some manufacturers have phone models with a wider spread of ratings than others. Some manufacturers, such as Samsung, have phone reviews spanning all star ratings. Others, such as Google, have reviews which are typically above 3 stars. Among other factors, this may be related to the number of phones for each manufacturer in the dataset."
   ]
  },
  {
   "cell_type": "code",
   "execution_count": 9,
   "metadata": {},
   "outputs": [
    {
     "data": {
      "image/png": "[encoded data removed]",
      "text/plain": [
       "<Figure size 864x432 with 1 Axes>"
      ]
     },
     "metadata": {
      "needs_background": "light"
     },
     "output_type": "display_data"
    }
   ],
   "source": [
    "fig,ax = plt.subplots(figsize=(12,6))\n",
    "sns.countplot(x='brand',data=phones, ax=ax)\n",
    "sns.despine()\n",
    "plt.title('Number of phone models by brand')\n",
    "plt.show()"
   ]
  },
  {
   "cell_type": "markdown",
   "metadata": {},
   "source": [
    "As expected, Samsung has the most phone models available in the dataset, far outpacing all other manufacturers. This partially explains the wide variety of ratings compared to other brands.\n",
    "\n",
    "Now that we've taken a look at the phones, let's examine the reviews dataset."
   ]
  },
  {
   "cell_type": "code",
   "execution_count": 10,
   "metadata": {},
   "outputs": [
    {
     "name": "stdout",
     "output_type": "stream",
     "text": [
      "<class 'pandas.core.frame.DataFrame'>\n",
      "RangeIndex: 67986 entries, 0 to 67985\n",
      "Data columns (total 8 columns):\n",
      " #   Column        Non-Null Count  Dtype  \n",
      "---  ------        --------------  -----  \n",
      " 0   asin          67986 non-null  object \n",
      " 1   name          67984 non-null  object \n",
      " 2   rating        67986 non-null  int64  \n",
      " 3   date          67986 non-null  object \n",
      " 4   verified      67986 non-null  bool   \n",
      " 5   title         67972 non-null  object \n",
      " 6   body          67965 non-null  object \n",
      " 7   helpfulVotes  27215 non-null  float64\n",
      "dtypes: bool(1), float64(1), int64(1), object(5)\n",
      "memory usage: 3.7+ MB\n"
     ]
    }
   ],
   "source": [
    "reviews.info()"
   ]
  },
  {
   "cell_type": "markdown",
   "metadata": {},
   "source": [
    "We are the most interested in the reviews, which are in the \"body\" column. There are around 20 rows with missing values here. We will drop these values from the dataset."
   ]
  },
  {
   "cell_type": "code",
   "execution_count": 11,
   "metadata": {},
   "outputs": [
    {
     "name": "stdout",
     "output_type": "stream",
     "text": [
      "<class 'pandas.core.frame.DataFrame'>\n",
      "Int64Index: 67965 entries, 0 to 67985\n",
      "Data columns (total 8 columns):\n",
      " #   Column        Non-Null Count  Dtype  \n",
      "---  ------        --------------  -----  \n",
      " 0   asin          67965 non-null  object \n",
      " 1   name          67963 non-null  object \n",
      " 2   rating        67965 non-null  int64  \n",
      " 3   date          67965 non-null  object \n",
      " 4   verified      67965 non-null  bool   \n",
      " 5   title         67956 non-null  object \n",
      " 6   body          67965 non-null  object \n",
      " 7   helpfulVotes  27208 non-null  float64\n",
      "dtypes: bool(1), float64(1), int64(1), object(5)\n",
      "memory usage: 4.2+ MB\n"
     ]
    }
   ],
   "source": [
    "reviews.dropna(subset=['body'],inplace=True)\n",
    "\n",
    "reviews.info()"
   ]
  },
  {
   "cell_type": "markdown",
   "metadata": {},
   "source": [
    "Now we can define our review classes. Based on domain knowledge, we know that Amazon reviews are rated from 1 to 5 stars, with 1 being the worst and 5 being the best. We will break these star ratings up into categories. These will be as follows:\n",
    "1-2 stars: Bad, \n",
    "3 stars: Fair,\n",
    "4 stars: Good\n",
    "5 stars: Excellent\n",
    "\n",
    "For the sake of running our model, these ratings will be coded as 0-Bad, 1-Fair, 2-Good, 3-Excellent. The ratings will be the column we are trying to predict."
   ]
  },
  {
   "cell_type": "code",
   "execution_count": 12,
   "metadata": {},
   "outputs": [],
   "source": [
    "def assign_cat(rating):\n",
    "    if rating <= 2:\n",
    "        return 0\n",
    "    elif rating == 3:\n",
    "        return 1\n",
    "    elif rating==4:\n",
    "        return 2\n",
    "    else:\n",
    "        return 3\n",
    "\n",
    "#applying above function to create categories\n",
    "reviews['category']=reviews.rating.apply(lambda x: assign_cat(x))"
   ]
  },
  {
   "cell_type": "markdown",
   "metadata": {},
   "source": [
    "Examining the category distribution:"
   ]
  },
  {
   "cell_type": "code",
   "execution_count": 13,
   "metadata": {},
   "outputs": [
    {
     "data": {
      "text/plain": [
       "3    37741\n",
       "0    16651\n",
       "2     8821\n",
       "1     4752\n",
       "Name: category, dtype: int64"
      ]
     },
     "execution_count": 13,
     "metadata": {},
     "output_type": "execute_result"
    }
   ],
   "source": [
    "reviews.category.value_counts()"
   ]
  },
  {
   "cell_type": "markdown",
   "metadata": {},
   "source": [
    "Based on our categories, the dataset has a class imbalance. There are far more Excellent reviews than any other. We will have to account for this when we build our machine learning model by weighting the categories.\n",
    "\n",
    "Now our dataset is ready for feature extraction (text processing). For this we'll use the Tokenizer class in Tensorflow to process our language data. This will consist of removing punctuation and separating out the text so that each word is a separate token. Then, we'll convert all tokens into a series of numbers that can be fed into the neural network.\n",
    "\n",
    "Once we have the series of numbers, the data will be split into training and testing data. Then we can design the model and use it on the training set."
   ]
  },
  {
   "cell_type": "code",
   "execution_count": 14,
   "metadata": {},
   "outputs": [],
   "source": [
    "from tensorflow.keras.preprocessing.text import Tokenizer\n",
    "from tensorflow.keras.preprocessing.sequence import pad_sequences\n",
    "\n",
    "#create object of the Tokenizer class\n",
    "tokens = Tokenizer()\n",
    "\n",
    "#fit tokenizer on the reviews\n",
    "tokens.fit_on_texts(reviews.body.values)\n",
    "seq = tokens.texts_to_sequences(reviews.body.values)\n",
    "\n",
    "#create a fixed length for each review\n",
    "X = pad_sequences(seq, maxlen=350) "
   ]
  },
  {
   "cell_type": "code",
   "execution_count": 15,
   "metadata": {},
   "outputs": [],
   "source": [
    "from sklearn.model_selection import train_test_split\n",
    "\n",
    "#setting target column\n",
    "y = reviews.category.values\n",
    "\n",
    "#splitting dataset into train and test\n",
    "X_train, X_test, y_train, y_test = train_test_split(X, y, test_size=0.25, random_state=1)"
   ]
  },
  {
   "cell_type": "code",
   "execution_count": 16,
   "metadata": {},
   "outputs": [
    {
     "name": "stdout",
     "output_type": "stream",
     "text": [
      "Model: \"sequential\"\n",
      "_________________________________________________________________\n",
      "Layer (type)                 Output Shape              Param #   \n",
      "=================================================================\n",
      "embedding (Embedding)        (None, 350, 200)          7672600   \n",
      "_________________________________________________________________\n",
      "lstm (LSTM)                  (None, 100)               120400    \n",
      "_________________________________________________________________\n",
      "dense (Dense)                (None, 4)                 404       \n",
      "=================================================================\n",
      "Total params: 7,793,404\n",
      "Trainable params: 7,793,404\n",
      "Non-trainable params: 0\n",
      "_________________________________________________________________\n"
     ]
    }
   ],
   "source": [
    "from tensorflow.keras.models import Sequential\n",
    "from tensorflow.keras.layers import Embedding, Dense, LSTM\n",
    "from tensorflow.keras.callbacks import EarlyStopping\n",
    "\n",
    "#setting parameters for network\n",
    "embed_dim = 200\n",
    "batch_size = 64\n",
    "ES = EarlyStopping(monitor='val_loss',patience=3)\n",
    "vocab = len(tokens.word_index)+1\n",
    "epochs = 10\n",
    "\n",
    "#defining the weights to address class imbalance\n",
    "weights = {0:2,1:8,2:4,3:1}\n",
    "\n",
    "#defining the recurrent neural network model\n",
    "model = Sequential()\n",
    "model.add(Embedding(input_dim=vocab, output_dim=embed_dim, input_length=X.shape[1])) #check this\n",
    "model.add(LSTM(100))\n",
    "model.add(Dense(4, activation = 'softmax'))\n",
    "\n",
    "model.summary()"
   ]
  },
  {
   "cell_type": "code",
   "execution_count": 17,
   "metadata": {},
   "outputs": [
    {
     "name": "stdout",
     "output_type": "stream",
     "text": [
      "WARNING:tensorflow:sample_weight modes were coerced from\n",
      "  ...\n",
      "    to  \n",
      "  ['...']\n",
      "WARNING:tensorflow:sample_weight modes were coerced from\n",
      "  ...\n",
      "    to  \n",
      "  ['...']\n",
      "Train on 45875 samples, validate on 5098 samples\n",
      "Epoch 1/10\n",
      "45875/45875 [==============================] - 259s 6ms/sample - loss: 2.3350 - accuracy: 0.5849 - val_loss: 2.1004 - val_accuracy: 0.5991\n",
      "Epoch 2/10\n",
      "45875/45875 [==============================] - 258s 6ms/sample - loss: 2.0613 - accuracy: 0.6460 - val_loss: 2.0523 - val_accuracy: 0.6501\n",
      "Epoch 3/10\n",
      "45875/45875 [==============================] - 274s 6ms/sample - loss: 1.7433 - accuracy: 0.7043 - val_loss: 2.0640 - val_accuracy: 0.6214\n",
      "Epoch 4/10\n",
      "45875/45875 [==============================] - 278s 6ms/sample - loss: 1.5227 - accuracy: 0.7334 - val_loss: 2.2377 - val_accuracy: 0.6707\n",
      "Epoch 5/10\n",
      "45875/45875 [==============================] - 288s 6ms/sample - loss: 1.3243 - accuracy: 0.7648 - val_loss: 2.4289 - val_accuracy: 0.6559\n"
     ]
    },
    {
     "data": {
      "text/plain": [
       "<tensorflow.python.keras.callbacks.History at 0x1a56e46490>"
      ]
     },
     "execution_count": 17,
     "metadata": {},
     "output_type": "execute_result"
    }
   ],
   "source": [
    "model.compile(loss='sparse_categorical_crossentropy',optimizer='adam',\n",
    "             metrics=['accuracy'])\n",
    "\n",
    "#running the model\n",
    "model.fit(X_train,y_train,validation_split=0.1,\n",
    "         batch_size=batch_size,callbacks=[ES],class_weight=weights,epochs=epochs, shuffle=True)"
   ]
  },
  {
   "cell_type": "markdown",
   "metadata": {},
   "source": [
    "From the above data, the model stopped at 4 epochs due to increasing validation loss. The model finished running with an overall accuracy of about 64% on the validation set. However, we have 4 categories, so we have to break this out to understand how the model really performed."
   ]
  },
  {
   "cell_type": "code",
   "execution_count": 18,
   "metadata": {},
   "outputs": [
    {
     "name": "stdout",
     "output_type": "stream",
     "text": [
      "              precision    recall  f1-score   support\n",
      "\n",
      "           0       0.78      0.76      0.77      4151\n",
      "           1       0.22      0.42      0.29      1175\n",
      "           2       0.27      0.38      0.32      2176\n",
      "           3       0.87      0.71      0.78      9490\n",
      "\n",
      "    accuracy                           0.66     16992\n",
      "   macro avg       0.54      0.57      0.54     16992\n",
      "weighted avg       0.73      0.66      0.69     16992\n",
      "\n"
     ]
    }
   ],
   "source": [
    "from sklearn.metrics import classification_report\n",
    "\n",
    "#make predictions with test set\n",
    "y_pred = np.argmax(model.predict(X_test), axis=1)\n",
    "\n",
    "#print the classification report\n",
    "print(classification_report(y_test,y_pred))"
   ]
  },
  {
   "cell_type": "markdown",
   "metadata": {},
   "source": [
    "Based on the above classification report, the model had the easiest time classifying the sentiment of Bad and Excellent reviews, but had a much harder time with Fair and Good reviews. For Fair and Good predictions, the accuracy was a little higher than picking a class at random. \n",
    "\n",
    "If we were to run this model again, it would be interesting to change the categories to see if that has any effect on model accuracy. We suspect that the model would be fairly accurate in predicting positive reviews if we grouped 4 and 5 star reviews together. Also that the same would hold true for grouping Bad and Fair reviews as negative. Another idea for a similar project would be to try and predict the actual star rating based on sentiment."
   ]
  }
 ],
 "metadata": {
  "kernelspec": {
   "display_name": "Python 3",
   "language": "python",
   "name": "python3"
  },
  "language_info": {
   "codemirror_mode": {
    "name": "ipython",
    "version": 3
   },
   "file_extension": ".py",
   "mimetype": "text/x-python",
   "name": "python",
   "nbconvert_exporter": "python",
   "pygments_lexer": "ipython3",
   "version": "3.7.6"
  }
 },
 "nbformat": 4,
 "nbformat_minor": 4
}
